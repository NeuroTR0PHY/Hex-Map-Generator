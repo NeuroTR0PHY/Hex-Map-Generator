{
 "cells": [
  {
   "cell_type": "code",
   "execution_count": 3,
   "id": "01642e61-2a7c-4f14-85ce-811c91261ebc",
   "metadata": {},
   "outputs": [
    {
     "name": "stdout",
     "output_type": "stream",
     "text": [
      "CSV file created at: /Users/nathan/Library/Application Support/FoundryVTT/Data/modules/procedural-hex-maps/tiles/output_file.csv\n"
     ]
    }
   ],
   "source": [
    "import os\n",
    "import csv\n",
    "\n",
    "# Directory containing the .png files\n",
    "directory = os.getcwd()  # Replace with your directory path\n",
    "\n",
    "# List to hold the file names\n",
    "file_names = []\n",
    "\n",
    "# Traverse the directory and collect .png file names\n",
    "for filename in os.listdir(directory):\n",
    "    if filename.endswith('.png'):\n",
    "        file_names.append(filename)\n",
    "\n",
    "# Path for the output CSV file\n",
    "csv_file_path = directory+'/output_file.csv'  # Replace with your desired output file path\n",
    "\n",
    "# Write the file names to the CSV\n",
    "with open(csv_file_path, 'w', newline='') as csvfile:\n",
    "    csv_writer = csv.writer(csvfile)\n",
    "    csv_writer.writerow(['File Name'])  # Write the header\n",
    "    for file_name in file_names:\n",
    "        csv_writer.writerow([file_name])  # Write each file name\n",
    "\n",
    "print(f\"CSV file created at: {csv_file_path}\")\n"
   ]
  },
  {
   "cell_type": "code",
   "execution_count": null,
   "id": "3f21d8e3-cdc0-408d-9eda-b457d495a17d",
   "metadata": {},
   "outputs": [],
   "source": []
  }
 ],
 "metadata": {
  "kernelspec": {
   "display_name": "Python 3 (ipykernel)",
   "language": "python",
   "name": "python3"
  },
  "language_info": {
   "codemirror_mode": {
    "name": "ipython",
    "version": 3
   },
   "file_extension": ".py",
   "mimetype": "text/x-python",
   "name": "python",
   "nbconvert_exporter": "python",
   "pygments_lexer": "ipython3",
   "version": "3.11.5"
  }
 },
 "nbformat": 4,
 "nbformat_minor": 5
}
